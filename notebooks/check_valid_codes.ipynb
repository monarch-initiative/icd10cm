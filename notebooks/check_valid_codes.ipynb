{
 "cells": [
  {
   "cell_type": "markdown",
   "metadata": {},
   "source": [
    "# Analysis of ICD codes in Mondo & ICD10CM"
   ]
  },
  {
   "cell_type": "code",
   "execution_count": 32,
   "metadata": {},
   "outputs": [],
   "source": [
    "# Allows import from scripts/ dir\n",
    "import os\n",
    "import sys\n",
    "module_path = os.path.abspath(os.path.join('..'))\n",
    "if module_path not in sys.path:\n",
    "    sys.path.append(module_path)"
   ]
  },
  {
   "cell_type": "code",
   "execution_count": 33,
   "metadata": {},
   "outputs": [],
   "source": [
    "from scripts.check_valid_codes import icd_xrefs_mondo, icd_classes_icd, common_codes, common_codes_stats"
   ]
  },
  {
   "cell_type": "code",
   "execution_count": 34,
   "metadata": {
    "pycharm": {
     "name": "#%%\n"
    },
    "scrolled": true
   },
   "outputs": [
    {
     "data": {
      "text/html": [
       "<div>\n",
       "<style scoped>\n",
       "    .dataframe tbody tr th:only-of-type {\n",
       "        vertical-align: middle;\n",
       "    }\n",
       "\n",
       "    .dataframe tbody tr th {\n",
       "        vertical-align: top;\n",
       "    }\n",
       "\n",
       "    .dataframe thead th {\n",
       "        text-align: right;\n",
       "    }\n",
       "</style>\n",
       "<table border=\"1\" class=\"dataframe\">\n",
       "  <thead>\n",
       "    <tr style=\"text-align: right;\">\n",
       "      <th></th>\n",
       "      <th>codes</th>\n",
       "    </tr>\n",
       "  </thead>\n",
       "  <tbody>\n",
       "    <tr>\n",
       "      <th>0</th>\n",
       "      <td>ICD10:I45.5</td>\n",
       "    </tr>\n",
       "    <tr>\n",
       "      <th>1</th>\n",
       "      <td>ICD9:426.6</td>\n",
       "    </tr>\n",
       "    <tr>\n",
       "      <th>2</th>\n",
       "      <td>ICD10:K76.8</td>\n",
       "    </tr>\n",
       "    <tr>\n",
       "      <th>3</th>\n",
       "      <td>ICDO:8051/0</td>\n",
       "    </tr>\n",
       "    <tr>\n",
       "      <th>4</th>\n",
       "      <td>ICD10:E22.0</td>\n",
       "    </tr>\n",
       "  </tbody>\n",
       "</table>\n",
       "</div>"
      ],
      "text/plain": [
       "         codes\n",
       "0  ICD10:I45.5\n",
       "1   ICD9:426.6\n",
       "2  ICD10:K76.8\n",
       "3  ICDO:8051/0\n",
       "4  ICD10:E22.0"
      ]
     },
     "execution_count": 34,
     "metadata": {},
     "output_type": "execute_result"
    }
   ],
   "source": [
    "icd_xrefs_mondo.head()"
   ]
  },
  {
   "cell_type": "code",
   "execution_count": 45,
   "metadata": {},
   "outputs": [
    {
     "data": {
      "text/plain": [
       "True"
      ]
     },
     "execution_count": 45,
     "metadata": {},
     "output_type": "execute_result"
    }
   ],
   "source": [
    "'ICD10:A00.B99' in list(icd_xrefs_mondo['codes'])"
   ]
  },
  {
   "cell_type": "code",
   "execution_count": 50,
   "metadata": {},
   "outputs": [
    {
     "data": {
      "text/plain": [
       "True"
      ]
     },
     "execution_count": 50,
     "metadata": {},
     "output_type": "execute_result"
    }
   ],
   "source": [
    "'ICD9:426.6' in list(icd_xrefs_mondo['codes'])"
   ]
  },
  {
   "cell_type": "code",
   "execution_count": 51,
   "metadata": {
    "pycharm": {
     "name": "#%%\n"
    }
   },
   "outputs": [
    {
     "data": {
      "text/html": [
       "<div>\n",
       "<style scoped>\n",
       "    .dataframe tbody tr th:only-of-type {\n",
       "        vertical-align: middle;\n",
       "    }\n",
       "\n",
       "    .dataframe tbody tr th {\n",
       "        vertical-align: top;\n",
       "    }\n",
       "\n",
       "    .dataframe thead th {\n",
       "        text-align: right;\n",
       "    }\n",
       "</style>\n",
       "<table border=\"1\" class=\"dataframe\">\n",
       "  <thead>\n",
       "    <tr style=\"text-align: right;\">\n",
       "      <th></th>\n",
       "      <th>codes</th>\n",
       "    </tr>\n",
       "  </thead>\n",
       "  <tbody>\n",
       "    <tr>\n",
       "      <th>0</th>\n",
       "      <td>ICD10CM:M62.49</td>\n",
       "    </tr>\n",
       "    <tr>\n",
       "      <th>1</th>\n",
       "      <td>ICD10CM:R00-R09</td>\n",
       "    </tr>\n",
       "    <tr>\n",
       "      <th>2</th>\n",
       "      <td>ICD10CM:V96.1</td>\n",
       "    </tr>\n",
       "    <tr>\n",
       "      <th>3</th>\n",
       "      <td>ICD10CM:W01.119</td>\n",
       "    </tr>\n",
       "    <tr>\n",
       "      <th>4</th>\n",
       "      <td>ICD10CM:M05.80</td>\n",
       "    </tr>\n",
       "  </tbody>\n",
       "</table>\n",
       "</div>"
      ],
      "text/plain": [
       "             codes\n",
       "0   ICD10CM:M62.49\n",
       "1  ICD10CM:R00-R09\n",
       "2    ICD10CM:V96.1\n",
       "3  ICD10CM:W01.119\n",
       "4   ICD10CM:M05.80"
      ]
     },
     "execution_count": 51,
     "metadata": {},
     "output_type": "execute_result"
    }
   ],
   "source": [
    "icd_classes_icd.head()"
   ]
  },
  {
   "cell_type": "code",
   "execution_count": 59,
   "metadata": {
    "pycharm": {
     "name": "#%%\n"
    },
    "scrolled": true
   },
   "outputs": [
    {
     "data": {
      "text/html": [
       "<div>\n",
       "<style scoped>\n",
       "    .dataframe tbody tr th:only-of-type {\n",
       "        vertical-align: middle;\n",
       "    }\n",
       "\n",
       "    .dataframe tbody tr th {\n",
       "        vertical-align: top;\n",
       "    }\n",
       "\n",
       "    .dataframe thead th {\n",
       "        text-align: right;\n",
       "    }\n",
       "</style>\n",
       "<table border=\"1\" class=\"dataframe\">\n",
       "  <thead>\n",
       "    <tr style=\"text-align: right;\">\n",
       "      <th></th>\n",
       "      <th>prefixAssumed:code</th>\n",
       "      <th>prefixAssumed</th>\n",
       "      <th>prefixOriginal:code</th>\n",
       "      <th>prefixOriginal</th>\n",
       "      <th>code</th>\n",
       "      <th>in_Mondo</th>\n",
       "      <th>in_ICD10CM</th>\n",
       "    </tr>\n",
       "  </thead>\n",
       "  <tbody>\n",
       "    <tr>\n",
       "      <th>0</th>\n",
       "      <td>ICD10CM:I45.5</td>\n",
       "      <td>ICD10CM</td>\n",
       "      <td>ICD10:I45.5</td>\n",
       "      <td>ICD10</td>\n",
       "      <td>I45.5</td>\n",
       "      <td>True</td>\n",
       "      <td>True</td>\n",
       "    </tr>\n",
       "    <tr>\n",
       "      <th>1</th>\n",
       "      <td>ICD9CM:426.6</td>\n",
       "      <td>ICD9CM</td>\n",
       "      <td>ICD9:426.6</td>\n",
       "      <td>ICD9</td>\n",
       "      <td>426.6</td>\n",
       "      <td>True</td>\n",
       "      <td>False</td>\n",
       "    </tr>\n",
       "    <tr>\n",
       "      <th>2</th>\n",
       "      <td>ICD10CM:K76.8</td>\n",
       "      <td>ICD10CM</td>\n",
       "      <td>ICD10:K76.8</td>\n",
       "      <td>ICD10</td>\n",
       "      <td>K76.8</td>\n",
       "      <td>True</td>\n",
       "      <td>True</td>\n",
       "    </tr>\n",
       "    <tr>\n",
       "      <th>3</th>\n",
       "      <td>ICDO:8051/0</td>\n",
       "      <td>ICDO</td>\n",
       "      <td>ICDO:8051/0</td>\n",
       "      <td>ICDO</td>\n",
       "      <td>8051/0</td>\n",
       "      <td>True</td>\n",
       "      <td>False</td>\n",
       "    </tr>\n",
       "    <tr>\n",
       "      <th>4</th>\n",
       "      <td>ICD10CM:E22.0</td>\n",
       "      <td>ICD10CM</td>\n",
       "      <td>ICD10:E22.0</td>\n",
       "      <td>ICD10</td>\n",
       "      <td>E22.0</td>\n",
       "      <td>True</td>\n",
       "      <td>True</td>\n",
       "    </tr>\n",
       "    <tr>\n",
       "      <th>...</th>\n",
       "      <td>...</td>\n",
       "      <td>...</td>\n",
       "      <td>...</td>\n",
       "      <td>...</td>\n",
       "      <td>...</td>\n",
       "      <td>...</td>\n",
       "      <td>...</td>\n",
       "    </tr>\n",
       "    <tr>\n",
       "      <th>100800</th>\n",
       "      <td>ICD10CM:O43.223</td>\n",
       "      <td>ICD10CM</td>\n",
       "      <td>ICD10CM:O43.223</td>\n",
       "      <td>ICD10CM</td>\n",
       "      <td>O43.223</td>\n",
       "      <td>False</td>\n",
       "      <td>True</td>\n",
       "    </tr>\n",
       "    <tr>\n",
       "      <th>100801</th>\n",
       "      <td>ICD10CM:Z04</td>\n",
       "      <td>ICD10CM</td>\n",
       "      <td>ICD10CM:Z04</td>\n",
       "      <td>ICD10CM</td>\n",
       "      <td>Z04</td>\n",
       "      <td>False</td>\n",
       "      <td>True</td>\n",
       "    </tr>\n",
       "    <tr>\n",
       "      <th>100802</th>\n",
       "      <td>ICD10CM:T22.632</td>\n",
       "      <td>ICD10CM</td>\n",
       "      <td>ICD10CM:T22.632</td>\n",
       "      <td>ICD10CM</td>\n",
       "      <td>T22.632</td>\n",
       "      <td>False</td>\n",
       "      <td>True</td>\n",
       "    </tr>\n",
       "    <tr>\n",
       "      <th>100803</th>\n",
       "      <td>ICD10CM:T63.834S</td>\n",
       "      <td>ICD10CM</td>\n",
       "      <td>ICD10CM:T63.834S</td>\n",
       "      <td>ICD10CM</td>\n",
       "      <td>T63.834S</td>\n",
       "      <td>False</td>\n",
       "      <td>True</td>\n",
       "    </tr>\n",
       "    <tr>\n",
       "      <th>100804</th>\n",
       "      <td>ICD10CM:S15.291S</td>\n",
       "      <td>ICD10CM</td>\n",
       "      <td>ICD10CM:S15.291S</td>\n",
       "      <td>ICD10CM</td>\n",
       "      <td>S15.291S</td>\n",
       "      <td>False</td>\n",
       "      <td>True</td>\n",
       "    </tr>\n",
       "  </tbody>\n",
       "</table>\n",
       "<p>100805 rows × 7 columns</p>\n",
       "</div>"
      ],
      "text/plain": [
       "       prefixAssumed:code prefixAssumed prefixOriginal:code prefixOriginal  \\\n",
       "0           ICD10CM:I45.5       ICD10CM         ICD10:I45.5          ICD10   \n",
       "1            ICD9CM:426.6        ICD9CM          ICD9:426.6           ICD9   \n",
       "2           ICD10CM:K76.8       ICD10CM         ICD10:K76.8          ICD10   \n",
       "3             ICDO:8051/0          ICDO         ICDO:8051/0           ICDO   \n",
       "4           ICD10CM:E22.0       ICD10CM         ICD10:E22.0          ICD10   \n",
       "...                   ...           ...                 ...            ...   \n",
       "100800    ICD10CM:O43.223       ICD10CM     ICD10CM:O43.223        ICD10CM   \n",
       "100801        ICD10CM:Z04       ICD10CM         ICD10CM:Z04        ICD10CM   \n",
       "100802    ICD10CM:T22.632       ICD10CM     ICD10CM:T22.632        ICD10CM   \n",
       "100803   ICD10CM:T63.834S       ICD10CM    ICD10CM:T63.834S        ICD10CM   \n",
       "100804   ICD10CM:S15.291S       ICD10CM    ICD10CM:S15.291S        ICD10CM   \n",
       "\n",
       "            code  in_Mondo  in_ICD10CM  \n",
       "0          I45.5      True        True  \n",
       "1          426.6      True       False  \n",
       "2          K76.8      True        True  \n",
       "3         8051/0      True       False  \n",
       "4          E22.0      True        True  \n",
       "...          ...       ...         ...  \n",
       "100800   O43.223     False        True  \n",
       "100801       Z04     False        True  \n",
       "100802   T22.632     False        True  \n",
       "100803  T63.834S     False        True  \n",
       "100804  S15.291S     False        True  \n",
       "\n",
       "[100805 rows x 7 columns]"
      ]
     },
     "execution_count": 59,
     "metadata": {},
     "output_type": "execute_result"
    }
   ],
   "source": [
    "common_codes"
   ]
  },
  {
   "cell_type": "code",
   "execution_count": 60,
   "metadata": {},
   "outputs": [
    {
     "data": {
      "text/html": [
       "<div>\n",
       "<style scoped>\n",
       "    .dataframe tbody tr th:only-of-type {\n",
       "        vertical-align: middle;\n",
       "    }\n",
       "\n",
       "    .dataframe tbody tr th {\n",
       "        vertical-align: top;\n",
       "    }\n",
       "\n",
       "    .dataframe thead th {\n",
       "        text-align: right;\n",
       "    }\n",
       "</style>\n",
       "<table border=\"1\" class=\"dataframe\">\n",
       "  <thead>\n",
       "    <tr style=\"text-align: right;\">\n",
       "      <th></th>\n",
       "      <th>prefixAssumed:code</th>\n",
       "      <th>prefixAssumed</th>\n",
       "      <th>prefixOriginal:code</th>\n",
       "      <th>prefixOriginal</th>\n",
       "      <th>code</th>\n",
       "      <th>in_Mondo</th>\n",
       "      <th>in_ICD10CM</th>\n",
       "    </tr>\n",
       "  </thead>\n",
       "  <tbody>\n",
       "    <tr>\n",
       "      <th>3030</th>\n",
       "      <td>ICD10CM:A00.B99</td>\n",
       "      <td>ICD10CM</td>\n",
       "      <td>ICD10:A00.B99</td>\n",
       "      <td>ICD10</td>\n",
       "      <td>A00.B99</td>\n",
       "      <td>True</td>\n",
       "      <td>False</td>\n",
       "    </tr>\n",
       "  </tbody>\n",
       "</table>\n",
       "</div>"
      ],
      "text/plain": [
       "     prefixAssumed:code prefixAssumed prefixOriginal:code prefixOriginal  \\\n",
       "3030    ICD10CM:A00.B99       ICD10CM       ICD10:A00.B99          ICD10   \n",
       "\n",
       "         code  in_Mondo  in_ICD10CM  \n",
       "3030  A00.B99      True       False  "
      ]
     },
     "execution_count": 60,
     "metadata": {},
     "output_type": "execute_result"
    }
   ],
   "source": [
    "ccc3 = common_codes[common_codes['prefixOriginal:code'] == 'ICD10:A00.B99']\n",
    "ccc3"
   ]
  },
  {
   "cell_type": "code",
   "execution_count": 67,
   "metadata": {
    "scrolled": true
   },
   "outputs": [
    {
     "data": {
      "text/html": [
       "<div>\n",
       "<style scoped>\n",
       "    .dataframe tbody tr th:only-of-type {\n",
       "        vertical-align: middle;\n",
       "    }\n",
       "\n",
       "    .dataframe tbody tr th {\n",
       "        vertical-align: top;\n",
       "    }\n",
       "\n",
       "    .dataframe thead th {\n",
       "        text-align: right;\n",
       "    }\n",
       "</style>\n",
       "<table border=\"1\" class=\"dataframe\">\n",
       "  <thead>\n",
       "    <tr style=\"text-align: right;\">\n",
       "      <th></th>\n",
       "      <th>prefixOriginal</th>\n",
       "      <th>prefixAssumed</th>\n",
       "    </tr>\n",
       "  </thead>\n",
       "  <tbody>\n",
       "    <tr>\n",
       "      <th>0</th>\n",
       "      <td>ICD10</td>\n",
       "      <td>ICD10CM</td>\n",
       "    </tr>\n",
       "    <tr>\n",
       "      <th>1</th>\n",
       "      <td>ICD9</td>\n",
       "      <td>ICD9CM</td>\n",
       "    </tr>\n",
       "    <tr>\n",
       "      <th>3</th>\n",
       "      <td>ICDO</td>\n",
       "      <td>ICDO</td>\n",
       "    </tr>\n",
       "    <tr>\n",
       "      <th>1544</th>\n",
       "      <td>ICD10CM</td>\n",
       "      <td>ICD10CM</td>\n",
       "    </tr>\n",
       "    <tr>\n",
       "      <th>1723</th>\n",
       "      <td>ICD-10</td>\n",
       "      <td>ICD10CM</td>\n",
       "    </tr>\n",
       "    <tr>\n",
       "      <th>7337</th>\n",
       "      <td>ICD11</td>\n",
       "      <td>ICD11CM</td>\n",
       "    </tr>\n",
       "    <tr>\n",
       "      <th>9253</th>\n",
       "      <td>STY</td>\n",
       "      <td>STY</td>\n",
       "    </tr>\n",
       "  </tbody>\n",
       "</table>\n",
       "</div>"
      ],
      "text/plain": [
       "     prefixOriginal prefixAssumed\n",
       "0             ICD10       ICD10CM\n",
       "1              ICD9        ICD9CM\n",
       "3              ICDO          ICDO\n",
       "1544        ICD10CM       ICD10CM\n",
       "1723         ICD-10       ICD10CM\n",
       "7337          ICD11       ICD11CM\n",
       "9253            STY           STY"
      ]
     },
     "execution_count": 67,
     "metadata": {},
     "output_type": "execute_result"
    }
   ],
   "source": [
    "common_codes_prefix_map = common_codes[['prefixOriginal', 'prefixAssumed']]\n",
    "common_codes_prefix_map = common_codes_prefix_map.drop_duplicates()\n",
    "common_codes_prefix_map"
   ]
  },
  {
   "cell_type": "code",
   "execution_count": 62,
   "metadata": {
    "scrolled": true
   },
   "outputs": [
    {
     "data": {
      "text/html": [
       "<div>\n",
       "<style scoped>\n",
       "    .dataframe tbody tr th:only-of-type {\n",
       "        vertical-align: middle;\n",
       "    }\n",
       "\n",
       "    .dataframe tbody tr th {\n",
       "        vertical-align: top;\n",
       "    }\n",
       "\n",
       "    .dataframe thead th {\n",
       "        text-align: right;\n",
       "    }\n",
       "</style>\n",
       "<table border=\"1\" class=\"dataframe\">\n",
       "  <thead>\n",
       "    <tr style=\"text-align: right;\">\n",
       "      <th></th>\n",
       "      <th>prefixAssumed:code</th>\n",
       "      <th>prefixAssumed</th>\n",
       "      <th>prefixOriginal:code</th>\n",
       "      <th>prefixOriginal</th>\n",
       "      <th>code</th>\n",
       "      <th>in_Mondo</th>\n",
       "      <th>in_ICD10CM</th>\n",
       "    </tr>\n",
       "  </thead>\n",
       "  <tbody>\n",
       "    <tr>\n",
       "      <th>165</th>\n",
       "      <td>ICD10CM:A39.1+</td>\n",
       "      <td>ICD10CM</td>\n",
       "      <td>ICD10:A39.1+</td>\n",
       "      <td>ICD10</td>\n",
       "      <td>A39.1+</td>\n",
       "      <td>True</td>\n",
       "      <td>False</td>\n",
       "    </tr>\n",
       "    <tr>\n",
       "      <th>166</th>\n",
       "      <td>ICD10CM:E35.1*</td>\n",
       "      <td>ICD10CM</td>\n",
       "      <td>ICD10:E35.1*</td>\n",
       "      <td>ICD10</td>\n",
       "      <td>E35.1*</td>\n",
       "      <td>True</td>\n",
       "      <td>False</td>\n",
       "    </tr>\n",
       "    <tr>\n",
       "      <th>230</th>\n",
       "      <td>ICD10CM:B02.2+</td>\n",
       "      <td>ICD10CM</td>\n",
       "      <td>ICD10:B02.2+</td>\n",
       "      <td>ICD10</td>\n",
       "      <td>B02.2+</td>\n",
       "      <td>True</td>\n",
       "      <td>False</td>\n",
       "    </tr>\n",
       "    <tr>\n",
       "      <th>231</th>\n",
       "      <td>ICD10CM:G53.0*</td>\n",
       "      <td>ICD10CM</td>\n",
       "      <td>ICD10:G53.0*</td>\n",
       "      <td>ICD10</td>\n",
       "      <td>G53.0*</td>\n",
       "      <td>True</td>\n",
       "      <td>False</td>\n",
       "    </tr>\n",
       "    <tr>\n",
       "      <th>562</th>\n",
       "      <td>ICD10CM:23.0</td>\n",
       "      <td>ICD10CM</td>\n",
       "      <td>ICD10:23.0</td>\n",
       "      <td>ICD10</td>\n",
       "      <td>23.0</td>\n",
       "      <td>True</td>\n",
       "      <td>False</td>\n",
       "    </tr>\n",
       "  </tbody>\n",
       "</table>\n",
       "</div>"
      ],
      "text/plain": [
       "    prefixAssumed:code prefixAssumed prefixOriginal:code prefixOriginal  \\\n",
       "165     ICD10CM:A39.1+       ICD10CM        ICD10:A39.1+          ICD10   \n",
       "166     ICD10CM:E35.1*       ICD10CM        ICD10:E35.1*          ICD10   \n",
       "230     ICD10CM:B02.2+       ICD10CM        ICD10:B02.2+          ICD10   \n",
       "231     ICD10CM:G53.0*       ICD10CM        ICD10:G53.0*          ICD10   \n",
       "562       ICD10CM:23.0       ICD10CM          ICD10:23.0          ICD10   \n",
       "\n",
       "       code  in_Mondo  in_ICD10CM  \n",
       "165  A39.1+      True       False  \n",
       "166  E35.1*      True       False  \n",
       "230  B02.2+      True       False  \n",
       "231  G53.0*      True       False  \n",
       "562    23.0      True       False  "
      ]
     },
     "execution_count": 62,
     "metadata": {},
     "output_type": "execute_result"
    }
   ],
   "source": [
    "ccc = common_codes[(common_codes['in_ICD10CM'] == False) & (common_codes['prefixAssumed'] == 'ICD10CM')]\n",
    "ccc.head()"
   ]
  },
  {
   "cell_type": "code",
   "execution_count": 68,
   "metadata": {},
   "outputs": [
    {
     "data": {
      "text/plain": [
       "165"
      ]
     },
     "execution_count": 68,
     "metadata": {},
     "output_type": "execute_result"
    }
   ],
   "source": [
    "ccc.to_csv('illegal_icd10_codes.tsv', index=False)\n",
    "len(ccc)"
   ]
  },
  {
   "cell_type": "code",
   "execution_count": 64,
   "metadata": {},
   "outputs": [
    {
     "data": {
      "text/html": [
       "<div>\n",
       "<style scoped>\n",
       "    .dataframe tbody tr th:only-of-type {\n",
       "        vertical-align: middle;\n",
       "    }\n",
       "\n",
       "    .dataframe tbody tr th {\n",
       "        vertical-align: top;\n",
       "    }\n",
       "\n",
       "    .dataframe thead th {\n",
       "        text-align: right;\n",
       "    }\n",
       "</style>\n",
       "<table border=\"1\" class=\"dataframe\">\n",
       "  <thead>\n",
       "    <tr style=\"text-align: right;\">\n",
       "      <th></th>\n",
       "      <th>prefixAssumed:code</th>\n",
       "      <th>prefixAssumed</th>\n",
       "      <th>prefixOriginal:code</th>\n",
       "      <th>prefixOriginal</th>\n",
       "      <th>code</th>\n",
       "      <th>in_Mondo</th>\n",
       "      <th>in_ICD10CM</th>\n",
       "    </tr>\n",
       "  </thead>\n",
       "  <tbody>\n",
       "    <tr>\n",
       "      <th>0</th>\n",
       "      <td>ICD10CM:I45.5</td>\n",
       "      <td>ICD10CM</td>\n",
       "      <td>ICD10:I45.5</td>\n",
       "      <td>ICD10</td>\n",
       "      <td>I45.5</td>\n",
       "      <td>True</td>\n",
       "      <td>True</td>\n",
       "    </tr>\n",
       "    <tr>\n",
       "      <th>2</th>\n",
       "      <td>ICD10CM:K76.8</td>\n",
       "      <td>ICD10CM</td>\n",
       "      <td>ICD10:K76.8</td>\n",
       "      <td>ICD10</td>\n",
       "      <td>K76.8</td>\n",
       "      <td>True</td>\n",
       "      <td>True</td>\n",
       "    </tr>\n",
       "    <tr>\n",
       "      <th>4</th>\n",
       "      <td>ICD10CM:E22.0</td>\n",
       "      <td>ICD10CM</td>\n",
       "      <td>ICD10:E22.0</td>\n",
       "      <td>ICD10</td>\n",
       "      <td>E22.0</td>\n",
       "      <td>True</td>\n",
       "      <td>True</td>\n",
       "    </tr>\n",
       "    <tr>\n",
       "      <th>5</th>\n",
       "      <td>ICD10CM:Q63.8</td>\n",
       "      <td>ICD10CM</td>\n",
       "      <td>ICD10:Q63.8</td>\n",
       "      <td>ICD10</td>\n",
       "      <td>Q63.8</td>\n",
       "      <td>True</td>\n",
       "      <td>True</td>\n",
       "    </tr>\n",
       "    <tr>\n",
       "      <th>6</th>\n",
       "      <td>ICD10CM:E71.3</td>\n",
       "      <td>ICD10CM</td>\n",
       "      <td>ICD10:E71.3</td>\n",
       "      <td>ICD10</td>\n",
       "      <td>E71.3</td>\n",
       "      <td>True</td>\n",
       "      <td>True</td>\n",
       "    </tr>\n",
       "  </tbody>\n",
       "</table>\n",
       "</div>"
      ],
      "text/plain": [
       "  prefixAssumed:code prefixAssumed prefixOriginal:code prefixOriginal   code  \\\n",
       "0      ICD10CM:I45.5       ICD10CM         ICD10:I45.5          ICD10  I45.5   \n",
       "2      ICD10CM:K76.8       ICD10CM         ICD10:K76.8          ICD10  K76.8   \n",
       "4      ICD10CM:E22.0       ICD10CM         ICD10:E22.0          ICD10  E22.0   \n",
       "5      ICD10CM:Q63.8       ICD10CM         ICD10:Q63.8          ICD10  Q63.8   \n",
       "6      ICD10CM:E71.3       ICD10CM         ICD10:E71.3          ICD10  E71.3   \n",
       "\n",
       "   in_Mondo  in_ICD10CM  \n",
       "0      True        True  \n",
       "2      True        True  \n",
       "4      True        True  \n",
       "5      True        True  \n",
       "6      True        True  "
      ]
     },
     "execution_count": 64,
     "metadata": {},
     "output_type": "execute_result"
    }
   ],
   "source": [
    "ccc2 = common_codes[(common_codes['in_Mondo'] == True) & (common_codes['prefixAssumed'] == 'ICD10CM')]\n",
    "ccc2.head()"
   ]
  },
  {
   "cell_type": "code",
   "execution_count": 65,
   "metadata": {},
   "outputs": [
    {
     "data": {
      "text/plain": [
       "4311"
      ]
     },
     "execution_count": 65,
     "metadata": {},
     "output_type": "execute_result"
    }
   ],
   "source": [
    "len(ccc2)"
   ]
  },
  {
   "cell_type": "code",
   "execution_count": 58,
   "metadata": {
    "pycharm": {
     "name": "#%%\n"
    }
   },
   "outputs": [
    {
     "data": {
      "text/html": [
       "<div>\n",
       "<style scoped>\n",
       "    .dataframe tbody tr th:only-of-type {\n",
       "        vertical-align: middle;\n",
       "    }\n",
       "\n",
       "    .dataframe tbody tr th {\n",
       "        vertical-align: top;\n",
       "    }\n",
       "\n",
       "    .dataframe thead th {\n",
       "        text-align: right;\n",
       "    }\n",
       "</style>\n",
       "<table border=\"1\" class=\"dataframe\">\n",
       "  <thead>\n",
       "    <tr style=\"text-align: right;\">\n",
       "      <th></th>\n",
       "      <th>ontology</th>\n",
       "      <th>prefixAssumed</th>\n",
       "      <th>count</th>\n",
       "    </tr>\n",
       "  </thead>\n",
       "  <tbody>\n",
       "    <tr>\n",
       "      <th>1</th>\n",
       "      <td>ICD10CM</td>\n",
       "      <td>ICD10CM</td>\n",
       "      <td>95843</td>\n",
       "    </tr>\n",
       "    <tr>\n",
       "      <th>7</th>\n",
       "      <td>ICD10CM</td>\n",
       "      <td>ICD11CM</td>\n",
       "      <td>0</td>\n",
       "    </tr>\n",
       "    <tr>\n",
       "      <th>3</th>\n",
       "      <td>ICD10CM</td>\n",
       "      <td>ICD9CM</td>\n",
       "      <td>0</td>\n",
       "    </tr>\n",
       "    <tr>\n",
       "      <th>5</th>\n",
       "      <td>ICD10CM</td>\n",
       "      <td>ICDO</td>\n",
       "      <td>0</td>\n",
       "    </tr>\n",
       "    <tr>\n",
       "      <th>9</th>\n",
       "      <td>ICD10CM</td>\n",
       "      <td>STY</td>\n",
       "      <td>127</td>\n",
       "    </tr>\n",
       "    <tr>\n",
       "      <th>0</th>\n",
       "      <td>Mondo</td>\n",
       "      <td>ICD10CM</td>\n",
       "      <td>4311</td>\n",
       "    </tr>\n",
       "    <tr>\n",
       "      <th>6</th>\n",
       "      <td>Mondo</td>\n",
       "      <td>ICD11CM</td>\n",
       "      <td>2</td>\n",
       "    </tr>\n",
       "    <tr>\n",
       "      <th>2</th>\n",
       "      <td>Mondo</td>\n",
       "      <td>ICD9CM</td>\n",
       "      <td>3937</td>\n",
       "    </tr>\n",
       "    <tr>\n",
       "      <th>4</th>\n",
       "      <td>Mondo</td>\n",
       "      <td>ICDO</td>\n",
       "      <td>731</td>\n",
       "    </tr>\n",
       "    <tr>\n",
       "      <th>8</th>\n",
       "      <td>Mondo</td>\n",
       "      <td>STY</td>\n",
       "      <td>0</td>\n",
       "    </tr>\n",
       "    <tr>\n",
       "      <th>10</th>\n",
       "      <td>Mondo; ICD10CM</td>\n",
       "      <td>ICD10CM</td>\n",
       "      <td>4146</td>\n",
       "    </tr>\n",
       "    <tr>\n",
       "      <th>13</th>\n",
       "      <td>Mondo; ICD10CM</td>\n",
       "      <td>ICD11CM</td>\n",
       "      <td>0</td>\n",
       "    </tr>\n",
       "    <tr>\n",
       "      <th>11</th>\n",
       "      <td>Mondo; ICD10CM</td>\n",
       "      <td>ICD9CM</td>\n",
       "      <td>0</td>\n",
       "    </tr>\n",
       "    <tr>\n",
       "      <th>12</th>\n",
       "      <td>Mondo; ICD10CM</td>\n",
       "      <td>ICDO</td>\n",
       "      <td>0</td>\n",
       "    </tr>\n",
       "    <tr>\n",
       "      <th>14</th>\n",
       "      <td>Mondo; ICD10CM</td>\n",
       "      <td>STY</td>\n",
       "      <td>0</td>\n",
       "    </tr>\n",
       "  </tbody>\n",
       "</table>\n",
       "</div>"
      ],
      "text/plain": [
       "          ontology prefixAssumed  count\n",
       "1          ICD10CM       ICD10CM  95843\n",
       "7          ICD10CM       ICD11CM      0\n",
       "3          ICD10CM        ICD9CM      0\n",
       "5          ICD10CM          ICDO      0\n",
       "9          ICD10CM           STY    127\n",
       "0            Mondo       ICD10CM   4311\n",
       "6            Mondo       ICD11CM      2\n",
       "2            Mondo        ICD9CM   3937\n",
       "4            Mondo          ICDO    731\n",
       "8            Mondo           STY      0\n",
       "10  Mondo; ICD10CM       ICD10CM   4146\n",
       "13  Mondo; ICD10CM       ICD11CM      0\n",
       "11  Mondo; ICD10CM        ICD9CM      0\n",
       "12  Mondo; ICD10CM          ICDO      0\n",
       "14  Mondo; ICD10CM           STY      0"
      ]
     },
     "execution_count": 58,
     "metadata": {},
     "output_type": "execute_result"
    }
   ],
   "source": [
    "common_codes_stats"
   ]
  },
  {
   "cell_type": "code",
   "execution_count": null,
   "metadata": {},
   "outputs": [],
   "source": []
  },
  {
   "cell_type": "code",
   "execution_count": null,
   "metadata": {},
   "outputs": [],
   "source": []
  },
  {
   "cell_type": "code",
   "execution_count": null,
   "metadata": {},
   "outputs": [],
   "source": []
  },
  {
   "cell_type": "code",
   "execution_count": null,
   "metadata": {},
   "outputs": [],
   "source": []
  },
  {
   "cell_type": "code",
   "execution_count": null,
   "metadata": {},
   "outputs": [],
   "source": []
  }
 ],
 "metadata": {
  "kernelspec": {
   "display_name": "Python 3 (ipykernel)",
   "language": "python",
   "name": "python3"
  },
  "language_info": {
   "codemirror_mode": {
    "name": "ipython",
    "version": 3
   },
   "file_extension": ".py",
   "mimetype": "text/x-python",
   "name": "python",
   "nbconvert_exporter": "python",
   "pygments_lexer": "ipython3",
   "version": "3.9.9"
  }
 },
 "nbformat": 4,
 "nbformat_minor": 1
}
